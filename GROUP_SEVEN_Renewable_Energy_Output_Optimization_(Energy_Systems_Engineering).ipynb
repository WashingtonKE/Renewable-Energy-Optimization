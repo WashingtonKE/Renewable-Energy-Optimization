{
  "nbformat": 4,
  "nbformat_minor": 0,
  "metadata": {
    "colab": {
      "provenance": []
    },
    "kernelspec": {
      "name": "python3",
      "display_name": "Python 3"
    },
    "language_info": {
      "name": "python"
    }
  },
  "cells": [
    {
      "cell_type": "markdown",
      "source": [
        "##1. Generation Pattern Analysis"
      ],
      "metadata": {
        "id": "L-Wxg_i_k0E7"
      }
    },
    {
      "cell_type": "markdown",
      "source": [
        "Required Functions to Implement\n",
        " Generation Pattern Analysis\n",
        " • Calculate cosine similarity between current output and reference scenarios\n",
        " • Classify current generation state (peak demand, low demand, or balanced)\n",
        " • Determine operational efficiency using similarity to optimal mix"
      ],
      "metadata": {
        "id": "AGNe9Ec7gvvh"
      }
    },
    {
      "cell_type": "markdown",
      "source": [
        "Step-by-Step Logic\n",
        "\n",
        "Inputs\n",
        "\n",
        "current_output → [95, 75, 35, -10]\n",
        "\n",
        "Reference scenarios:\n",
        "\n",
        "Peak Demand → [120, 85, 45, -30]\n",
        "\n",
        "Low Demand → [80, 95, 30, 25]\n",
        "\n",
        "Optimal Mix → [100, 90, 40, 0]"
      ],
      "metadata": {
        "id": "PWHgKiUXhS55"
      }
    },
    {
      "cell_type": "markdown",
      "source": [
        "Cosine Similarity Formula\n",
        "\n",
        "cosine_similarity\n",
        "(\n",
        "𝐴\n",
        ",\n",
        "𝐵\n",
        ")\n",
        "=\n",
        "𝐴\n",
        "⋅\n",
        "𝐵\n",
        "∣\n",
        "∣\n",
        "𝐴\n",
        "∣\n",
        "∣\n",
        "×\n",
        "∣\n",
        "∣\n",
        "𝐵\n",
        "∣\n",
        "∣\n",
        "cosine_similarity(A,B)=\n",
        "∣∣A∣∣×∣∣B∣∣\n",
        "A⋅B  📘 Example Calculation (Manual)\n",
        "\n",
        "Let:\n",
        "\n",
        "𝐴\n",
        "=\n",
        "[\n",
        "95\n",
        ",\n",
        "75\n",
        ",\n",
        "35\n",
        ",\n",
        "−\n",
        "10\n",
        "]\n",
        "A=[95,75,35,−10]\n",
        "𝐵\n",
        "=\n",
        "[\n",
        "120\n",
        ",\n",
        "85\n",
        ",\n",
        "45\n",
        ",\n",
        "−\n",
        "30\n",
        "]\n",
        "B=[120,85,45,−30]\n",
        "\t​\n"
      ],
      "metadata": {
        "id": "Ve5aDO6ehm07"
      }
    },
    {
      "cell_type": "code",
      "execution_count": null,
      "metadata": {
        "id": "dqlWFjEAguIS",
        "colab": {
          "base_uri": "https://localhost:8080/"
        },
        "outputId": "db1a5d45-cb47-4f91-a51e-eee5974c7727"
      },
      "outputs": [
        {
          "output_type": "stream",
          "name": "stdout",
          "text": [
            "0.9922391829286685\n"
          ]
        }
      ],
      "source": [
        "import numpy as np\n",
        "\n",
        "A = np.array([95, 75, 35, -10])\n",
        "B = np.array([120, 85, 45, -30])\n",
        "\n",
        "cosine_similarity = np.dot(A, B) / (np.linalg.norm(A) * np.linalg.norm(B))\n",
        "print(cosine_similarity)\n"
      ]
    },
    {
      "cell_type": "markdown",
      "source": [
        "🔍 Goal\n",
        "\n",
        "Determine whether the current energy generation pattern corresponds most closely to:\n",
        "\n",
        "Peak Demand,\n",
        "\n",
        "Low Demand, or\n",
        "\n",
        "Optimal Mix,\n",
        "\n",
        "using cosine similarity between their generation vectors.\n",
        "\n",
        "🧮 Mathematical Steps\n",
        "\n",
        "Given vectors:\n",
        "\n",
        "𝑐\n",
        "𝑜\n",
        "co = current output\n",
        "\n",
        "𝑝\n",
        "𝑑\n",
        "pd = peak demand\n",
        "\n",
        "𝑙\n",
        "𝑑\n",
        "ld = low demand\n",
        "\n",
        "𝑜\n",
        "𝑚\n",
        "om = optimal mix\n",
        "\n",
        "1️⃣ Compute cosine similarity for each:\n",
        "𝑆\n",
        "𝑝\n",
        "𝑑\n",
        "=\n",
        "𝑐\n",
        "𝑜\n",
        "⋅\n",
        "𝑝\n",
        "𝑑\n",
        "∣\n",
        "∣\n",
        "𝑐\n",
        "𝑜\n",
        "∣\n",
        "∣\n",
        "×\n",
        "∣\n",
        "∣\n",
        "𝑝\n",
        "𝑑\n",
        "∣\n",
        "∣\n",
        "S\n",
        "pd\n",
        "\t​\n",
        "\n",
        "=\n",
        "∣∣co∣∣×∣∣pd∣∣\n",
        "co⋅pd\n",
        "\t​\n",
        "\n",
        "𝑆\n",
        "𝑙\n",
        "𝑑\n",
        "=\n",
        "𝑐\n",
        "𝑜\n",
        "⋅\n",
        "𝑙\n",
        "𝑑\n",
        "∣\n",
        "∣\n",
        "𝑐\n",
        "𝑜\n",
        "∣\n",
        "∣\n",
        "×\n",
        "∣\n",
        "∣\n",
        "𝑙\n",
        "𝑑\n",
        "∣\n",
        "∣\n",
        "S\n",
        "ld\n",
        "\t​\n",
        "\n",
        "=\n",
        "∣∣co∣∣×∣∣ld∣∣\n",
        "co⋅ld\n",
        "\t​\n",
        "\n",
        "𝑆\n",
        "𝑜\n",
        "𝑚\n",
        "=\n",
        "𝑐\n",
        "𝑜\n",
        "⋅\n",
        "𝑜\n",
        "𝑚\n",
        "∣\n",
        "∣\n",
        "𝑐\n",
        "𝑜\n",
        "∣\n",
        "∣\n",
        "×\n",
        "∣\n",
        "∣\n",
        "𝑜\n",
        "𝑚\n",
        "∣\n",
        "∣\n",
        "S\n",
        "om\n",
        "\t​\n",
        "\n",
        "=\n",
        "∣∣co∣∣×∣∣om∣∣\n",
        "co⋅om\n",
        "\t​\n"
      ],
      "metadata": {
        "id": "hOaQ4sCfpLDZ"
      }
    },
    {
      "cell_type": "code",
      "source": [
        "import numpy as np\n",
        "\n",
        "def classify_generation_state():\n",
        "    # Define vectors\n",
        "    current_output = np.array([95, 75, 35, -10])\n",
        "    peak_demand = np.array([120, 85, 45, -30])\n",
        "    low_demand = np.array([80, 95, 30, 25])\n",
        "    optimal_mix = np.array([100, 90, 40, 0])\n",
        "\n",
        "    # Helper function\n",
        "    def cosine_similarity(a, b):\n",
        "        return np.dot(a, b) / (np.linalg.norm(a) * np.linalg.norm(b))\n",
        "\n",
        "    # Compute cosine similarities\n",
        "    sim_peak = cosine_similarity(current_output, peak_demand)\n",
        "    sim_low = cosine_similarity(current_output, low_demand)\n",
        "    sim_optimal = cosine_similarity(current_output, optimal_mix)\n",
        "\n",
        "    # Store in a dictionary\n",
        "    similarities = {\n",
        "        \"Peak Demand\": sim_peak,\n",
        "        \"Low Demand\": sim_low,\n",
        "        \"Optimal Mix\": sim_optimal\n",
        "    }\n",
        "\n",
        "    # Classification: highest similarity wins\n",
        "    current_state = max(similarities, key=similarities.get)\n",
        "\n",
        "    # Display results\n",
        "    print(\"=== Generation State Classification ===\")\n",
        "    for k, v in similarities.items():\n",
        "        print(f\"Cosine Similarity to {k}: {v:.4f}\")\n",
        "    print(f\"\\n✅ Current Generation State: {current_state}\")\n",
        "\n",
        "# Run it\n",
        "classify_generation_state()\n"
      ],
      "metadata": {
        "id": "tDkWnc5BpdIX",
        "colab": {
          "base_uri": "https://localhost:8080/"
        },
        "outputId": "48f08c3f-1a0b-4845-dec7-fd0590334ba2"
      },
      "execution_count": null,
      "outputs": [
        {
          "output_type": "stream",
          "name": "stdout",
          "text": [
            "=== Generation State Classification ===\n",
            "Cosine Similarity to Peak Demand: 0.9922\n",
            "Cosine Similarity to Low Demand: 0.9435\n",
            "Cosine Similarity to Optimal Mix: 0.9949\n",
            "\n",
            "✅ Current Generation State: Optimal Mix\n"
          ]
        }
      ]
    },
    {
      "cell_type": "markdown",
      "source": [
        "Operational Efficiency\n",
        "\n",
        " Can be quantitatively defined as the cosine similarity between a system’s current output vector and its optimal mix vector. It measures how closely the current energy generation pattern matches the ideal (optimal mix). Explaination                                                                  A value close to 1 (or 100%) means the current generation pattern nearly matches the optimal mix.\n",
        "\n",
        "0.8 (80%) would indicate noticeable inefficiency."
      ],
      "metadata": {
        "id": "wGuxz9aZsQaP"
      }
    },
    {
      "cell_type": "code",
      "source": [
        "import numpy as np\n",
        "\n",
        "co = np.array([95, 75, 35, -10])\n",
        "om = np.array([100, 90, 40, 0])\n",
        "\n",
        "cosine_similarity = np.dot(co, om) / (np.linalg.norm(co) * np.linalg.norm(om))\n",
        "operational_efficiency = cosine_similarity * 100  # as percentage\n",
        "\n",
        "print(f\"Cosine Similarity: {cosine_similarity:.4f}\")\n",
        "print(f\"Operational Efficiency: {operational_efficiency:.2f}%\")\n"
      ],
      "metadata": {
        "id": "1mo8j3qFsRgK",
        "colab": {
          "base_uri": "https://localhost:8080/"
        },
        "outputId": "710d6496-c2eb-415d-c82c-02fd22a49851"
      },
      "execution_count": null,
      "outputs": [
        {
          "output_type": "stream",
          "name": "stdout",
          "text": [
            "Cosine Similarity: 0.9949\n",
            "Operational Efficiency: 99.49%\n"
          ]
        }
      ]
    },
    {
      "cell_type": "markdown",
      "source": [
        "##2. Load Balancing Vector Analysis"
      ],
      "metadata": {
        "id": "GYRR93kjkcHq"
      }
    },
    {
      "cell_type": "markdown",
      "source": [
        "Load Balancing Vector Analysis\n",
        "• Calculate total generation vector magnitude\n",
        "• Project current output onto grid demand direction\n",
        "• Determine excess/deficit using vector projections and magnitude"
      ],
      "metadata": {
        "id": "R6uFUS63e5vO"
      }
    },
    {
      "cell_type": "code",
      "source": [
        "import numpy as np\n",
        "\n",
        "# Vectors\n",
        "co = np.array([95, 75, 35, -10], dtype=float)\n",
        "gd = np.array([1, 1, 1, 1], dtype=float)\n",
        "\n",
        "# 1) Total magnitude\n",
        "total_magnitude = np.linalg.norm(co)\n",
        "\n",
        "# 2) Projection onto grid demand\n",
        "dot = np.dot(co, gd)\n",
        "gd_norm = np.linalg.norm(gd)\n",
        "projection_magnitude = dot / gd_norm\n",
        "projection_vector = (dot / (gd_norm ** 2)) * gd\n",
        "\n",
        "# 3) Excess / deficit\n",
        "excess_deficit = total_magnitude - projection_magnitude\n",
        "status = \"Excess Generation\" if excess_deficit > 0 else (\"Balanced\" if np.isclose(excess_deficit, 0) else \"Deficit\")\n",
        "\n",
        "print(f\"Total generation magnitude ||co|| = {total_magnitude:.6f} MW\")\n",
        "print(f\"Dot product co·gd = {dot}\")\n",
        "print(f\"Grid norm ||gd|| = {gd_norm}\")\n",
        "print(f\"Projection magnitude onto grid demand = {projection_magnitude:.6f} MW\")\n",
        "print(f\"Projection vector = {projection_vector}\")\n",
        "print(f\"Excess / Deficit = {excess_deficit:.6f} MW -> {status}\")\n"
      ],
      "metadata": {
        "colab": {
          "base_uri": "https://localhost:8080/"
        },
        "id": "lGuGvkk3fARN",
        "outputId": "4472d932-2ab2-42e9-e468-27f8a3fce83c"
      },
      "execution_count": null,
      "outputs": [
        {
          "output_type": "stream",
          "name": "stdout",
          "text": [
            "Total generation magnitude ||co|| = 126.392247 MW\n",
            "Dot product co·gd = 195.0\n",
            "Grid norm ||gd|| = 2.0\n",
            "Projection magnitude onto grid demand = 97.500000 MW\n",
            "Projection vector = [48.75 48.75 48.75 48.75]\n",
            "Excess / Deficit = 28.892247 MW -> Excess Generation\n"
          ]
        }
      ]
    },
    {
      "cell_type": "markdown",
      "source": [
        "##3.  Source Contribution Analysis\n",
        "\n",
        "\n"
      ],
      "metadata": {
        "id": "rkgtYrxKj0S1"
      }
    },
    {
      "cell_type": "markdown",
      "source": [
        "Source Contribution Analysis\n",
        "• Create renewable priority vector: rp = [1.2,1.1,1.0,0.8] (preference weights) • Project current output onto priority direction\n",
        " • Calculate renewable energy fraction using dot product ratios\n",
        "  • Determine carbon footprint score using environmental impact weight"
      ],
      "metadata": {
        "id": "t9USfXZg0Yrx"
      }
    },
    {
      "cell_type": "code",
      "source": [
        "import numpy as np\n",
        "\n",
        "def source_contribution_analysis():\n",
        "    # Define vectors\n",
        "    co = np.array([95, 75, 35, -10])\n",
        "    rp = np.array([1.2, 1.1, 1.0, 0.8])\n",
        "    ei = np.array([0.2, 0.3, 0.4, 0.6])\n",
        "\n",
        "    # 1. Projection onto renewable priority\n",
        "    dot_rp = np.dot(co, rp)\n",
        "    proj_vector = (dot_rp / np.dot(rp, rp)) * rp\n",
        "\n",
        "    # 2. Renewable energy fraction\n",
        "    renewable_fraction = dot_rp / (np.linalg.norm(co) * np.linalg.norm(rp))\n",
        "\n",
        "    # 3. Carbon footprint score\n",
        "    carbon_score = np.dot(co, ei) / np.sum(co)\n",
        "\n",
        "    # Display results\n",
        "    print(\"=== Source Contribution Analysis ===\")\n",
        "    print(f\"Projection Vector onto Priority: {proj_vector}\")\n",
        "    print(f\"Renewable Energy Fraction: {renewable_fraction:.4f} ({renewable_fraction*100:.2f}%)\")\n",
        "    print(f\"Carbon Footprint Score: {carbon_score:.4f}\")\n",
        "\n",
        "# Run\n",
        "source_contribution_analysis()\n"
      ],
      "metadata": {
        "id": "wShnh6v4msZW",
        "colab": {
          "base_uri": "https://localhost:8080/"
        },
        "outputId": "0d915d6d-5826-473d-f33c-66593cd8480c"
      },
      "execution_count": null,
      "outputs": [
        {
          "output_type": "stream",
          "name": "stdout",
          "text": [
            "=== Source Contribution Analysis ===\n",
            "Projection Vector onto Priority: [62.51748252 57.30769231 52.0979021  41.67832168]\n",
            "Renewable Energy Fraction: 0.8537 (85.37%)\n",
            "Carbon Footprint Score: 0.2538\n"
          ]
        }
      ]
    },
    {
      "cell_type": "markdown",
      "source": [
        "##4. Storage Optimization"
      ],
      "metadata": {
        "id": "JjuU6HHPochN"
      }
    },
    {
      "cell_type": "code",
      "source": [
        "import numpy as np\n",
        "def storage_optimization():\n",
        "  #Define vectors\n",
        "  co = np.array([95, 75, 35, -10])\n",
        "  charge = np.array([0, 0, 0, 1])\n",
        "  discharge = np.array([0, 0, 0, -1])\n",
        "\n",
        "  #projection onto storange strategy directions\n",
        "  dot_charge = np.dot(co, charge)                # negative if currently discharging\n",
        "  dot_discharge = np.dot(co, discharge)          # positive if currently discharging\n",
        "\n",
        "  # Decision rule using surplus/deficit\n",
        "  if surplus_deficit > 0:\n",
        "      action = \"Charge\"\n",
        "  elif surplus_deficit < 0:\n",
        "      action = \"Discharge\"\n",
        "  else:\n",
        "      action = \"Hold\"\n",
        "\n",
        "   # Display results\n",
        "\n",
        "\n"
      ],
      "metadata": {
        "id": "sDGr__O8oklp"
      },
      "execution_count": null,
      "outputs": []
    }
  ]
}